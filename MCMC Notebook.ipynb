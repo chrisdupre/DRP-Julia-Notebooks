{
 "cells": [
  {
   "cell_type": "markdown",
   "id": "be224513",
   "metadata": {},
   "source": [
    "# Hello! Welcome to Julia!\n",
    "#### Julia is a computational language that is growing in popularity amongst the scientfic computing communities. In this notebook we will go through the basics of Markov Chains and Markov Chain Monte Carlo.\n",
    "\n",
    "#### To begin, lets setup the basics of matrices in Julia. We can initialize a matrix in Julia by specifying it's entries as follows. White space stands between entries and semicolons separate lines. "
   ]
  },
  {
   "cell_type": "code",
   "execution_count": 1,
   "id": "a86a3e72",
   "metadata": {},
   "outputs": [],
   "source": [
    "using LinearAlgebra"
   ]
  },
  {
   "cell_type": "code",
   "execution_count": 2,
   "id": "76b999db",
   "metadata": {},
   "outputs": [
    {
     "data": {
      "text/plain": [
       "3×3 Matrix{Float64}:\n",
       " 0.0  0.5  0.5\n",
       " 0.5  0.5  0.0\n",
       " 0.5  0.0  0.5"
      ]
     },
     "execution_count": 2,
     "metadata": {},
     "output_type": "execute_result"
    }
   ],
   "source": [
    "A = [0 1/2 1/2; 1/2 1/2 0;1/2 0 1/2]"
   ]
  },
  {
   "cell_type": "markdown",
   "id": "de3a6825",
   "metadata": {},
   "source": [
    "#### To multiply matrices, simply use the * command. To find eigenvalues and eigenvectors of A, use eigals(A) and eigvects(A). To tanspose, we use transpose(A)."
   ]
  },
  {
   "cell_type": "code",
   "execution_count": 3,
   "id": "00dda16c",
   "metadata": {
    "scrolled": true
   },
   "outputs": [
    {
     "name": "stdout",
     "output_type": "stream",
     "text": [
      "Matrix Multiplication gives:\n",
      "[0.5 0.25 0.25; 0.25 0.5 0.25; 0.25 0.25 0.5]\n",
      "The eigenvalues are:\n",
      "[-0.5000000000000004, 0.49999999999999994, 1.0]\n",
      "The eigenvectors are:\n",
      "[-0.8164965809277261 -4.440892098500626e-16 0.5773502691896257; 0.4082482904638635 -0.7071067811865471 0.577350269189626; 0.4082482904638624 0.707106781186548 0.5773502691896257]\n",
      "The transpose is:\n",
      "[0.0 0.5 0.5; 0.5 0.5 0.0; 0.5 0.0 0.5]\n"
     ]
    }
   ],
   "source": [
    "println(\"Matrix Multiplication gives:\")\n",
    "println(A*A)\n",
    "println(\"The eigenvalues are:\")\n",
    "println(eigvals(A))\n",
    "println(\"The eigenvectors are:\")\n",
    "println(eigvecs(A))\n",
    "println(\"The transpose is:\")\n",
    "println(transpose(A))"
   ]
  },
  {
   "cell_type": "markdown",
   "id": "65ea966b",
   "metadata": {},
   "source": [
    "#### Julia is a 1 index language like Matlab. Thus to grab the third eigenvector corresponding to an eigenvalue of 1, we can use eigvecs(A)[:,3] "
   ]
  },
  {
   "cell_type": "code",
   "execution_count": 4,
   "id": "47bff787",
   "metadata": {},
   "outputs": [
    {
     "data": {
      "text/plain": [
       "3-element Vector{Float64}:\n",
       " 0.5773502691896257\n",
       " 0.577350269189626\n",
       " 0.5773502691896257"
      ]
     },
     "execution_count": 4,
     "metadata": {},
     "output_type": "execute_result"
    }
   ],
   "source": [
    "B = eigvecs(transpose(A))[:,3]"
   ]
  },
  {
   "cell_type": "markdown",
   "id": "899909b6",
   "metadata": {},
   "source": [
    "#### Note that this is a left eigenvector for A, but not a stationary probability measure beacause it is not normalized. To normalize, we simply divide by the sum"
   ]
  },
  {
   "cell_type": "code",
   "execution_count": 5,
   "id": "2c6c395c",
   "metadata": {},
   "outputs": [
    {
     "data": {
      "text/plain": [
       "3-element Vector{Float64}:\n",
       " 0.3333333333333333\n",
       " 0.3333333333333334\n",
       " 0.3333333333333333"
      ]
     },
     "execution_count": 5,
     "metadata": {},
     "output_type": "execute_result"
    }
   ],
   "source": [
    "invProb = B/sum(B)"
   ]
  },
  {
   "cell_type": "markdown",
   "id": "e1c6bf32",
   "metadata": {},
   "source": [
    "### Note that in this case, there is a unique eigenvector corresponding to an eigenvalue of 1 and all others have magnitude less than 1. \n",
    "## Question 1: Draw the transition graph associated with A and justify this using the Perron-Frobenius Theorem "
   ]
  },
  {
   "cell_type": "code",
   "execution_count": null,
   "id": "e11a004c",
   "metadata": {},
   "outputs": [],
   "source": []
  },
  {
   "cell_type": "markdown",
   "id": "5e8fbe48",
   "metadata": {},
   "source": [
    "## Question 2: Translate the following transition graph into a transition matrix and compute the corresponding stationary distributions. What do you see and why?\n",
    "<img src = \"pdfresizer.com-pdf-crop1024_1.jpg\" alt = \"Transition Graph\" width = 200 height = 200>"
   ]
  },
  {
   "cell_type": "code",
   "execution_count": null,
   "id": "5da5ec91",
   "metadata": {},
   "outputs": [],
   "source": []
  },
  {
   "cell_type": "markdown",
   "id": "669574ef",
   "metadata": {},
   "source": [
    "## It is not always practical to compute all of the eigenvalues and eigenvectors for large matrices. Lets first find a large matrix."
   ]
  },
  {
   "cell_type": "code",
   "execution_count": 15,
   "id": "f82b8274",
   "metadata": {},
   "outputs": [],
   "source": [
    "import Random\n",
    "N = 5000\n",
    "M = rand(Float64,N,N);\n",
    "T = zeros(N,N);\n",
    "for i in 1:N\n",
    "    T[i,:] = M[i,:]/sum(M[i,:])\n",
    "end\n",
    "T;"
   ]
  },
  {
   "cell_type": "markdown",
   "id": "eb3e1eaf",
   "metadata": {},
   "source": [
    "## Run the next cell if you would like. Notice how long it takes to compute the eigvalues. "
   ]
  },
  {
   "cell_type": "code",
   "execution_count": null,
   "id": "4ea3f106",
   "metadata": {},
   "outputs": [],
   "source": [
    "eigvals(T)"
   ]
  },
  {
   "cell_type": "markdown",
   "id": "7da0af06",
   "metadata": {},
   "source": [
    "### Luckily this isn't our only option. With high probability, T will give an irreducible aperiodic Markov chain. \n",
    "\n",
    "## Question 3: Find the stationary distribution without finding the eigenvectors. If you use a method which depends on the initial vector, generate another random vector to test your algorithim. Feel free to rerun the cell defining T to reinitialize T."
   ]
  },
  {
   "cell_type": "code",
   "execution_count": null,
   "id": "d6997b86",
   "metadata": {},
   "outputs": [],
   "source": []
  },
  {
   "cell_type": "markdown",
   "id": "dac34489",
   "metadata": {},
   "source": [
    "## Of course, in truly big data, even this is too much. On a real world network, there could be billions of possible states. It isn't feasible to store a billion by billion matrix and compute its stationary distributions. We don't actually need to do this. We only need to know our system is a Markov chain which is irreducible and aperiodic. Then the sample averages along our path with coincide with the invariant distribution after some burn-in period. "
   ]
  },
  {
   "cell_type": "code",
   "execution_count": 24,
   "id": "9187922a",
   "metadata": {},
   "outputs": [],
   "source": [
    "using Erdos"
   ]
  },
  {
   "cell_type": "markdown",
   "id": "4285a23f",
   "metadata": {},
   "source": [
    "## Below we will generate a random regular graph. By this we just mean a graph for which every vertex has the same number of neighbors, in this case 10. Notice how much larger of a network we can now store. "
   ]
  },
  {
   "cell_type": "code",
   "execution_count": 58,
   "id": "f0006c28",
   "metadata": {},
   "outputs": [],
   "source": [
    "g = random_regular_graph(100000,10);\n",
    "age = VertexMap(g, v -> rand(0:100));"
   ]
  },
  {
   "cell_type": "markdown",
   "id": "f8c1c3bb",
   "metadata": {},
   "source": [
    "## Question 4: Sample from the Markov chain whose transition probabilites are given by $$\\frac{1}{\\mathbf{num \\  neighbors} + 1}$$ for each of the states neighbors and itself. \n",
    "\n",
    "## What is the average age with respect to the stationary measure of this Markov chain? What are the possible stationary measures for this Markov chain."
   ]
  },
  {
   "cell_type": "code",
   "execution_count": 38,
   "id": "4d67833d",
   "metadata": {},
   "outputs": [],
   "source": [
    "#Comment out the lines below to get you started\n",
    "#burn_in = \n",
    "#total_per_run = \n",
    "# a = rand(vertices(g)) #This will generate a random initial vertex\n",
    "# age_curr = age[a] #This is how you access the age of a vertex you currently have\n"
   ]
  },
  {
   "cell_type": "code",
   "execution_count": null,
   "id": "5cf87c02",
   "metadata": {},
   "outputs": [],
   "source": []
  }
 ],
 "metadata": {
  "kernelspec": {
   "display_name": "Julia 1.6.0",
   "language": "julia",
   "name": "julia-1.6"
  },
  "language_info": {
   "file_extension": ".jl",
   "mimetype": "application/julia",
   "name": "julia",
   "version": "1.6.0"
  }
 },
 "nbformat": 4,
 "nbformat_minor": 5
}
